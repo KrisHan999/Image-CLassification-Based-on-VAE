{
 "cells": [
  {
   "cell_type": "code",
   "execution_count": 1,
   "metadata": {},
   "outputs": [],
   "source": [
    "from sklearn.decomposition import PCA"
   ]
  },
  {
   "cell_type": "code",
   "execution_count": 11,
   "metadata": {},
   "outputs": [],
   "source": [
    "from codebase.utils import load_model_by_name\n",
    "from codebase.utils import generate_individual_set_loader\n",
    "from codebase.utils import get_mean_variance\n",
    "from codebase import utils as ut\n",
    "from codebase.models.hkvae import HKVAE\n",
    "import torch\n",
    "import matplotlib.pyplot as plt\n",
    "from torchvision import datasets, transforms\n",
    "import numpy as np\n",
    "import torchvision\n",
    "import argparse"
   ]
  },
  {
   "cell_type": "code",
   "execution_count": 12,
   "metadata": {
    "ExecuteTime": {
     "end_time": "2019-06-09T02:58:25.768403Z",
     "start_time": "2019-06-09T02:58:25.764142Z"
    }
   },
   "outputs": [],
   "source": [
    "from codebase.utils_c import load_model_by_name\n",
    "from codebase.utils_c import generate_individual_set_loader\n",
    "from codebase.utils_c import get_mean_variance\n",
    "from codebase import utils_c as ut\n",
    "import torch\n",
    "import matplotlib.pyplot as plt\n",
    "from torchvision import datasets, transforms\n",
    "import numpy as np"
   ]
  },
  {
   "cell_type": "code",
   "execution_count": 13,
   "metadata": {},
   "outputs": [],
   "source": [
    "parser = argparse.ArgumentParser(formatter_class=argparse.ArgumentDefaultsHelpFormatter)\n",
    "parser.add_argument('--gw',             type=int, default=1,        help=\"Weight on the generative terms\")\n",
    "parser.add_argument('--cw',             type=int, default=50,      help=\"Weight on the class term\")\n",
    "parser.add_argument('--recw',            type=int, default=10,        help=\"Weight on the generative terms\")\n",
    "parser.add_argument('--kl_xy_xw',        type=int, default=10,       help=\"Weight on the class term\")\n",
    "parser.add_argument('--kl_xy_yw',        type=int, default=30,       help=\"Weight on the generative terms\")\n",
    "parser.add_argument('--iter_max',       type=int, default=10000,    help=\"Number of training iterations\")\n",
    "parser.add_argument('--iter_save',      type=int, default=5000,    help=\"Save model every n iterations\")\n",
    "parser.add_argument('--run',            type=int, default=0,        help=\"Run ID. In case you want to run replicates\")\n",
    "parser.add_argument('--train',          type=int, default=1,        help=\"Flag for training\")\n",
    "args = parser.parse_known_args()[0]"
   ]
  },
  {
   "cell_type": "code",
   "execution_count": 14,
   "metadata": {
    "ExecuteTime": {
     "end_time": "2019-06-09T02:58:27.579279Z",
     "start_time": "2019-06-09T02:58:26.816509Z"
    }
   },
   "outputs": [],
   "source": [
    "train_set = datasets.MNIST(\n",
    "    root='../MNIST-data'\n",
    "    ,train=True\n",
    "    ,download=True\n",
    "    ,transform=transforms.Compose([\n",
    "        transforms.ToTensor()\n",
    "    ])\n",
    ")\n",
    "\n",
    "test_set = datasets.MNIST(\n",
    "    root='../MNIST-data'\n",
    "    ,train=False\n",
    "    ,download=True\n",
    "    ,transform=transforms.Compose([\n",
    "        transforms.ToTensor()\n",
    "    ])\n",
    ")\n",
    "device = torch.device('cpu')\n",
    "train_loader, labeled_subset, _ = ut.get_mnist_data(device, train_set, test_set, use_test_subset=True)\n",
    "data_set_individual, data_loader_individual = generate_individual_set_loader(device, train_set)"
   ]
  },
  {
   "cell_type": "code",
   "execution_count": 71,
   "metadata": {
    "ExecuteTime": {
     "end_time": "2019-06-09T02:58:26.119359Z",
     "start_time": "2019-06-09T02:58:26.097096Z"
    }
   },
   "outputs": [
    {
     "name": "stdout",
     "output_type": "stream",
     "text": [
      "Loaded from checkpoints\\./HKVAE/model=hkvae_gw=001_cw=100_kl_xy_xw=010_kl_xy_yw=010_recw=001_run=0000\\model-10000.pt\n"
     ]
    }
   ],
   "source": [
    "dim = 10\n",
    "model_name = \"../HKVAE/model=hkvae_gw=001_cw=100_kl_xy_xw=010_kl_xy_yw=010_recw=001_run=0000\"\n",
    "\n",
    "\n",
    "hkvae = HKVAE(\n",
    "    rec_weight=args.recw,\n",
    "    kl_xy_x_weight=args.kl_xy_xw,\n",
    "    kl_xy_y_weight=args.kl_xy_yw,\n",
    "    gen_weight=args.gw,\n",
    "    class_weight=args.cw,\n",
    "    name=model_name).to(device)\n",
    "load_model_by_name(hkvae, 10000)"
   ]
  },
  {
   "cell_type": "code",
   "execution_count": 72,
   "metadata": {
    "ExecuteTime": {
     "end_time": "2019-06-09T02:58:30.191418Z",
     "start_time": "2019-06-09T02:58:29.838166Z"
    },
    "scrolled": false
   },
   "outputs": [],
   "source": [
    "# para_set = [get_mean_variance(vae, data_set_individual[i]) for i in range(10)]\n",
    "# mean_mean = []\n",
    "# mean_variance = []\n",
    "# for i, set in enumerate(para_set):\n",
    "#     print('set: {}'.format(i))\n",
    "#     print(\"\\tmean\")\n",
    "#     temp_mean_mean = set[0].mean(dim=0)\n",
    "#     mean_mean.append(temp_mean_mean)\n",
    "#     print(\"\\t\", temp_mean_mean)\n",
    "#     print(\"\\tvariance\")\n",
    "#     temp_mean_variance = set[1].mean(dim=0)\n",
    "#     mean_variance.append(temp_mean_variance)\n",
    "#     print(\"\\t\", temp_mean_variance)\n",
    "\n",
    "# mean_mean = torch.stack(mean_mean, dim=0).detach().numpy()\n",
    "# mean_variance = torch.stack(mean_variance, dim=0).detach().numpy()\n",
    "    \n",
    "# overall_mean = np.zeros((10, dim))\n",
    "# overall_var = np.zeros((10, dim))\n",
    "# for i, set in enumerate(para_set):\n",
    "#     overall_mean[i], overall_var[i]  = ut.resample(30, set[0], set[1])\n",
    "#     overall_var[i] = 1e-8\n",
    "#     print('set: {}'.format(i))\n",
    "#     print(\"\\tmean\")\n",
    "#     print(\"\\t\", overall_mean[i])\n",
    "#     print(\"\\tvariance\")\n",
    "#     print(\"\\t\", overall_var[i])"
   ]
  },
  {
   "cell_type": "code",
   "execution_count": 73,
   "metadata": {},
   "outputs": [],
   "source": [
    "# pca = PCA(n_components=2)\n",
    "# newData = pca.fit_transform(overall_var)\n",
    "\n",
    "# for i in range(newData.shape[0]):\n",
    "#     plt.scatter(newData[i][0], newData[i][1], label='{i}'.format(i=i))\n",
    "#     plt.legend()"
   ]
  },
  {
   "cell_type": "code",
   "execution_count": 74,
   "metadata": {},
   "outputs": [],
   "source": [
    "# newData = pca.fit_transform(np.array(mean_mean))\n",
    "\n",
    "# for i in range(newData.shape[0]):\n",
    "#     plt.scatter(newData[i][0], newData[i][1], label='{i}'.format(i=i))\n",
    "#     plt.legend()"
   ]
  },
  {
   "cell_type": "code",
   "execution_count": 75,
   "metadata": {},
   "outputs": [],
   "source": [
    "labels = np.repeat(np.arange(10), 10)"
   ]
  },
  {
   "cell_type": "code",
   "execution_count": 76,
   "metadata": {},
   "outputs": [],
   "source": [
    "y = torch.tensor(np.eye(10)[labels].reshape(-1, 10)).float()"
   ]
  },
  {
   "cell_type": "code",
   "execution_count": 77,
   "metadata": {},
   "outputs": [
    {
     "data": {
      "text/plain": [
       "<matplotlib.image.AxesImage at 0x266156d1cc0>"
      ]
     },
     "execution_count": 77,
     "metadata": {},
     "output_type": "execute_result"
    },
    {
     "data": {
      "image/png": "[encoded data removed]",
      "text/plain": [
       "<Figure size 1080x1080 with 1 Axes>"
      ]
     },
     "metadata": {
      "needs_background": "light"
     },
     "output_type": "display_data"
    }
   ],
   "source": [
    "image = hkvae.sample_x_given_y(y)\n",
    "grid = torchvision.utils.make_grid(image.reshape(-1, 1, 28, 28), nrow=10)\n",
    "plt.figure(figsize=(15,15))\n",
    "plt.imshow(np.transpose(grid, (1,2,0)))"
   ]
  },
  {
   "cell_type": "code",
   "execution_count": null,
   "metadata": {},
   "outputs": [],
   "source": []
  }
 ],
 "metadata": {
  "kernelspec": {
   "display_name": "py3.7",
   "language": "python",
   "name": "py3.7"
  },
  "language_info": {
   "codemirror_mode": {
    "name": "ipython",
    "version": 3
   },
   "file_extension": ".py",
   "mimetype": "text/x-python",
   "name": "python",
   "nbconvert_exporter": "python",
   "pygments_lexer": "ipython3",
   "version": "3.7.3"
  },
  "varInspector": {
   "cols": {
    "lenName": 16,
    "lenType": 16,
    "lenVar": 40
   },
   "kernels_config": {
    "python": {
     "delete_cmd_postfix": "",
     "delete_cmd_prefix": "del ",
     "library": "var_list.py",
     "varRefreshCmd": "print(var_dic_list())"
    },
    "r": {
     "delete_cmd_postfix": ") ",
     "delete_cmd_prefix": "rm(",
     "library": "var_list.r",
     "varRefreshCmd": "cat(var_dic_list()) "
    }
   },
   "types_to_exclude": [
    "module",
    "function",
    "builtin_function_or_method",
    "instance",
    "_Feature"
   ],
   "window_display": false
  }
 },
 "nbformat": 4,
 "nbformat_minor": 2
}
