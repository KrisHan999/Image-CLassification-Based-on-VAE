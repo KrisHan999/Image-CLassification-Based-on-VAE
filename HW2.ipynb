{
 "cells": [
  {
   "cell_type": "code",
   "execution_count": 1,
   "metadata": {},
   "outputs": [],
   "source": [
    "import argparse\n",
    "\n",
    "import sys\n",
    "import os\n",
    "import yaml\n",
    "import torch\n",
    "import numpy as np\n",
    "import pickle as pkl\n",
    "from dataset import NIPS2015Dataset\n",
    "from model import RNN\n",
    "\n",
    "import matplotlib\n",
    "if os.environ.get('DISPLAY', '') == '':\n",
    "    matplotlib.use('Agg')\n",
    "import matplotlib.pyplot as plt"
   ]
  },
  {
   "cell_type": "code",
   "execution_count": 2,
   "metadata": {},
   "outputs": [],
   "source": [
    "SAMPLE_SEQ_LEN = 1000"
   ]
  },
  {
   "cell_type": "code",
   "execution_count": 3,
   "metadata": {},
   "outputs": [],
   "source": [
    "def parse_args():\n",
    "    parser = argparse.ArgumentParser()\n",
    "    parser.add_argument('--checkpoint_dir', type=str, default='checkpoints/', help='Directory of saving checkpoints')\n",
    "    parser.add_argument('--data_dir', type=str, default='data/', help='Directory of papers.csv')\n",
    "    parser.add_argument('--log_dir', type=str, default='logs/', help='Directory of putting logs')\n",
    "    parser.add_argument('--gpu', action='store_true', help=\"Turn on GPU mode\")\n",
    "\n",
    "    args = parser.parse_known_args()[0]\n",
    "    return args"
   ]
  },
  {
   "cell_type": "code",
   "execution_count": 4,
   "metadata": {},
   "outputs": [],
   "source": [
    "def dict2namespace(config):\n",
    "    new_config = argparse.Namespace()\n",
    "    for key, value in config.items():\n",
    "        if isinstance(value, dict):\n",
    "            value = dict2namespace(value)\n",
    "        setattr(new_config, key, value)\n",
    "    return new_config"
   ]
  },
  {
   "cell_type": "code",
   "execution_count": 5,
   "metadata": {},
   "outputs": [],
   "source": [
    "def parse_config(args):\n",
    "    with open('config.yml', 'r') as f:\n",
    "        config = yaml.load(f)\n",
    "    if not os.path.exists(args.log_dir):\n",
    "        os.makedirs(args.log_dir)\n",
    "    with open(os.path.join(args.log_dir, 'config.yml'), 'w') as f:\n",
    "        yaml.dump(config, f, default_flow_style=False)\n",
    "    return dict2namespace(config)"
   ]
  },
  {
   "cell_type": "code",
   "execution_count": 6,
   "metadata": {},
   "outputs": [],
   "source": [
    "def plot_log_p(filename, dataset, rnn):\n",
    "    with open(filename + '.pkl', 'rb') as f:\n",
    "        lls = []\n",
    "        data = pkl.load(f)\n",
    "        for i, str in data.items():\n",
    "            # each str is constant-length(100) string\n",
    "            str_np = np.asarray([dataset.char2idx[c] for c in str])\n",
    "            ll = rnn.compute_prob(str_np)\n",
    "#             print(ll)\n",
    "            lls.append(ll)\n",
    "    print(\"{}'s log-likelihood:\\nmin:{}\\tmax:{}\\n\".format(filename, min(lls), max(lls)))\n",
    "    with open(filename + '_raw.pkl', 'wb') as f:\n",
    "        pkl.dump(lls, f, protocol=pkl.HIGHEST_PROTOCOL)\n",
    "\n",
    "    plt.figure()\n",
    "    plt.hist(lls)\n",
    "    plt.xlabel('Log-likelihood')\n",
    "    plt.xlim([-800, -50])\n",
    "    plt.ylabel('Counts')\n",
    "    plt.title(filename)\n",
    "    plt.savefig(filename + '.png', bbox_inches='tight')\n",
    "    plt.show()\n",
    "    plt.close()\n",
    "    print(\"# Figure written to %s.png.\" % filename)"
   ]
  },
  {
   "cell_type": "code",
   "execution_count": 7,
   "metadata": {},
   "outputs": [
    {
     "name": "stderr",
     "output_type": "stream",
     "text": [
      "D:\\Anaconda2\\envs\\py3.7\\lib\\site-packages\\ipykernel_launcher.py:3: YAMLLoadWarning: calling yaml.load() without Loader=... is deprecated, as the default Loader is unsafe. Please read https://msg.pyyaml.org/load for full details.\n",
      "  This is separate from the ipykernel package so we can avoid doing imports until\n"
     ]
    },
    {
     "name": "stdout",
     "output_type": "stream",
     "text": [
      "Namespace(batch_size=64, embedding_dim=64, num_lstm_layers=4, num_lstm_units=128, seed=1234, seq_len=25)\n",
      "# RNN weights restored.\n"
     ]
    }
   ],
   "source": [
    "args = parse_args()\n",
    "config = parse_config(args)\n",
    "\n",
    "print(config)\n",
    "\n",
    "np.random.seed(config.seed)\n",
    "if args.gpu and torch.cuda.is_available():\n",
    "    torch.cuda.manual_seed_all(config.seed)\n",
    "    device = torch.device('cuda')\n",
    "else:\n",
    "    device = torch.device('cpu')\n",
    "\n",
    "torch.manual_seed(config.seed)\n",
    "\n",
    "dataset = NIPS2015Dataset(batch_size=config.batch_size,\n",
    "                          seq_len=config.seq_len,\n",
    "                          data_folder=args.data_dir)\n",
    "\n",
    "rnn = RNN(\n",
    "    vocab_size=dataset.voc_len,\n",
    "    embedding_dim=config.embedding_dim,\n",
    "    num_lstm_units=config.num_lstm_units,\n",
    "    num_lstm_layers=config.num_lstm_layers,\n",
    "    dataset=dataset,\n",
    "    device=device\n",
    ")\n",
    "\n",
    "checkpoint = torch.load(os.path.join(args.checkpoint_dir, 'checkpoint.pth'), map_location=device)\n",
    "rnn.load_state_dict(checkpoint['rnn'])\n",
    "print(\"# RNN weights restored.\")"
   ]
  },
  {
   "cell_type": "code",
   "execution_count": 8,
   "metadata": {},
   "outputs": [
    {
     "name": "stderr",
     "output_type": "stream",
     "text": [
      "G:\\CS295\\HW2\\charrnn-release\\charrnn-release\\model.py:74: UserWarning: Implicit dimension choice for softmax has been deprecated. Change the call to include dim=X as an argument.\n",
      "  ps = self.softmax(logits[0]).numpy()\n"
     ]
    },
    {
     "name": "stdout",
     "output_type": "stream",
     "text": [
      "# Samples written to samples.txt.\n"
     ]
    }
   ],
   "source": [
    "# question 3)\n",
    "with open('samples.txt', 'w', encoding='utf-8') as f:\n",
    "    for i in range(2):\n",
    "        text = 'sample {}: '.format(i+1)\n",
    "        sample = rnn.sample(SAMPLE_SEQ_LEN)\n",
    "        text += ''.join([dataset.idx2char[i] for i in sample])\n",
    "        f.write(text + '\\n')\n",
    "print(\"# Samples written to samples.txt.\")"
   ]
  },
  {
   "cell_type": "code",
   "execution_count": 9,
   "metadata": {
    "scrolled": false
   },
   "outputs": [
    {
     "name": "stderr",
     "output_type": "stream",
     "text": [
      "G:\\CS295\\HW2\\charrnn-release\\charrnn-release\\model.py:107: UserWarning: Implicit dimension choice for softmax has been deprecated. Change the call to include dim=X as an argument.\n",
      "  ps = self.softmax(logits).numpy()\n"
     ]
    },
    {
     "name": "stdout",
     "output_type": "stream",
     "text": [
      "random's log-likelihood:\n",
      "min:-797.7300402263842\tmax:-645.7690734824657\n",
      "\n"
     ]
    },
    {
     "name": "stderr",
     "output_type": "stream",
     "text": [
      "D:\\Anaconda2\\envs\\py3.7\\lib\\site-packages\\matplotlib\\figure.py:445: UserWarning: Matplotlib is currently using agg, which is a non-GUI backend, so cannot show the figure.\n",
      "  % get_backend())\n"
     ]
    },
    {
     "name": "stdout",
     "output_type": "stream",
     "text": [
      "# Figure written to random.png.\n",
      "shakespeare's log-likelihood:\n",
      "min:-395.35268357381517\tmax:-213.48790281832783\n",
      "\n",
      "# Figure written to shakespeare.png.\n",
      "nips's log-likelihood:\n",
      "min:-253.49370320211887\tmax:-101.29741062308395\n",
      "\n",
      "# Figure written to nips.png.\n"
     ]
    }
   ],
   "source": [
    "# question 4)\n",
    "plot_log_p('random', dataset, rnn)\n",
    "plot_log_p('shakespeare', dataset, rnn)\n",
    "plot_log_p('nips', dataset, rnn)"
   ]
  },
  {
   "cell_type": "code",
   "execution_count": 10,
   "metadata": {},
   "outputs": [
    {
     "name": "stdout",
     "output_type": "stream",
     "text": [
      "-298.00204241158906\n",
      "-108.89269068257536\n",
      "-324.17725121709384\n",
      "-137.00153728146637\n",
      "-119.77384872124996\n",
      "-298.8971028386369\n",
      "-140.40971556119158\n",
      "-112.15386210755253\n",
      "-340.5324110304424\n",
      "-699.4776100834879\n",
      "[1, 2, 1, 2, 2, 1, 2, 2, 1, 0]\n",
      "# Answers written to answers.pkl.\n"
     ]
    }
   ],
   "source": [
    "# question 5)\n",
    "with open('snippets.pkl', 'rb') as f:\n",
    "    snippets = pkl.load(f)\n",
    "lbls = []\n",
    "\n",
    "# we will be only using the first 10 strings\n",
    "n_snippet = 10\n",
    "for snippet in snippets[:n_snippet]:\n",
    "    # Compute the log-likelihood of the current snippet\n",
    "    ll = rnn.compute_prob(np.asarray([dataset.char2idx[c] for c in snippet]))\n",
    "    ##### complete the code here #####\n",
    "    # infer the label of the current snippet and append it to lbls.\n",
    "    # If the snippet is generated randomly, append 0\n",
    "    # If the snippet is from Shakespeare's work, append 1\n",
    "    # If the snippet is retrieved from a NIPS paper, append 2\n",
    "    ##################################\n",
    "    print(ll)\n",
    "    if(ll < -520):\n",
    "        lbls.append(0)\n",
    "    elif(ll < -220):\n",
    "        lbls.append(1)\n",
    "    else:\n",
    "        lbls.append(2)\n",
    "        \n",
    "with open(\"answers.pkl\", 'wb') as f:\n",
    "    pkl.dump(lbls, f, protocol=pkl.HIGHEST_PROTOCOL)\n",
    "    print(lbls)\n",
    "    print(\"# Answers written to answers.pkl.\")"
   ]
  },
  {
   "cell_type": "code",
   "execution_count": null,
   "metadata": {},
   "outputs": [],
   "source": []
  },
  {
   "cell_type": "code",
   "execution_count": null,
   "metadata": {},
   "outputs": [],
   "source": []
  }
 ],
 "metadata": {
  "kernelspec": {
   "display_name": "py3.7",
   "language": "python",
   "name": "py3.7"
  },
  "language_info": {
   "codemirror_mode": {
    "name": "ipython",
    "version": 3
   },
   "file_extension": ".py",
   "mimetype": "text/x-python",
   "name": "python",
   "nbconvert_exporter": "python",
   "pygments_lexer": "ipython3",
   "version": "3.7.3"
  }
 },
 "nbformat": 4,
 "nbformat_minor": 2
}
