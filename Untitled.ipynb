{
 "cells": [
  {
   "cell_type": "code",
   "execution_count": 3,
   "metadata": {},
   "outputs": [
    {
     "name": "stdout",
     "output_type": "stream",
     "text": [
      "{'iter_max': 20000, 'iter_save': 10000, 'run': 0, 'train': 0, 'z': 10}\n",
      "Model name: model=vae_z=10_run=0000\n"
     ]
    }
   ],
   "source": [
    "import argparse\n",
    "import numpy as np\n",
    "import torch\n",
    "import tqdm\n",
    "from codebase import utils as ut\n",
    "from codebase.models.vae import VAE\n",
    "from codebase.train import train\n",
    "from pprint import pprint\n",
    "import matplotlib.pyplot as plt\n",
    "from torchvision import datasets, transforms\n",
    "\n",
    "parser = argparse.ArgumentParser(formatter_class=argparse.ArgumentDefaultsHelpFormatter)\n",
    "parser.add_argument('--z',         type=int, default=10,     help=\"Number of latent dimensions\")\n",
    "parser.add_argument('--iter_max',  type=int, default=20000, help=\"Number of training iterations\")\n",
    "parser.add_argument('--iter_save', type=int, default=10000, help=\"Save model every n iterations\")\n",
    "parser.add_argument('--run',       type=int, default=0,     help=\"Run ID. In case you want to run replicates\")\n",
    "parser.add_argument('--train',     type=int, default=0,     help=\"Flag for training\")\n",
    "args = parser.parse_known_args()[0]\n",
    "layout = [\n",
    "    ('model={:s}',  'vae'),\n",
    "    ('z={:02d}',  args.z),\n",
    "    ('run={:04d}', args.run)\n",
    "]\n",
    "model_name = '_'.join([t.format(v) for (t, v) in layout])\n",
    "pprint(vars(args))\n",
    "print('Model name:', model_name)\n",
    "\n",
    "device = torch.device('cuda' if torch.cuda.is_available() else 'cpu')\n",
    "train_loader, labeled_subset, _ = ut.get_mnist_data(device, use_test_subset=True)\n",
    "vae = VAE(z_dim=args.z, name=model_name).to(device)\n",
    "\n",
    "\n"
   ]
  },
  {
   "cell_type": "code",
   "execution_count": 4,
   "metadata": {},
   "outputs": [
    {
     "name": "stdout",
     "output_type": "stream",
     "text": [
      "Loaded from checkpoints\\model=vae_z=10_run=0000\\model-20000.pt\n",
      "********************************************************************************\n",
      "LOG-LIKELIHOOD LOWER BOUNDS ON TEST SUBSET\n",
      "********************************************************************************\n",
      "NELBO: 102.14718627929688. KL: 19.424440383911133. Rec: 82.72274017333984\n"
     ]
    }
   ],
   "source": [
    "ut.load_model_by_name(vae, global_step=args.iter_max)\n",
    "# ut.evaluate_lower_bound(vae, labeled_subset, run_iwae=True)\n",
    "ut.evaluate_lower_bound(vae, labeled_subset, run_iwae=args.train == 2)\n",
    "x = vae.sample_x(200)\n",
    "x = x.view(10, 20, 28, 28).cpu().detach().numpy()\n"
   ]
  },
  {
   "cell_type": "code",
   "execution_count": 5,
   "metadata": {},
   "outputs": [
    {
     "name": "stdout",
     "output_type": "stream",
     "text": [
      "(10, 20, 28, 28)\n"
     ]
    }
   ],
   "source": [
    "print(x.shape)"
   ]
  },
  {
   "cell_type": "code",
   "execution_count": 6,
   "metadata": {},
   "outputs": [
    {
     "data": {
      "image/png": "[encoded data removed]",
      "text/plain": [
       "<Figure size 432x288 with 200 Axes>"
      ]
     },
     "metadata": {},
     "output_type": "display_data"
    }
   ],
   "source": [
    "fig, axes = plt.subplots(10, 20,sharex=True, sharey=True)\n",
    "for i in range(10):\n",
    "    for j in range(20):\n",
    "        axes[i, j].imshow(x[i][j])\n",
    "        axes[i, j].set_xticks([])\n",
    "        axes[i, j].set_yticks([])\n",
    "plt.show()"
   ]
  },
  {
   "cell_type": "code",
   "execution_count": null,
   "metadata": {},
   "outputs": [],
   "source": []
  }
 ],
 "metadata": {
  "kernelspec": {
   "display_name": "py3.7",
   "language": "python",
   "name": "py3.7"
  },
  "language_info": {
   "codemirror_mode": {
    "name": "ipython",
    "version": 3
   },
   "file_extension": ".py",
   "mimetype": "text/x-python",
   "name": "python",
   "nbconvert_exporter": "python",
   "pygments_lexer": "ipython3",
   "version": "3.7.3"
  }
 },
 "nbformat": 4,
 "nbformat_minor": 2
}
