{
 "cells": [
  {
   "cell_type": "code",
   "execution_count": 1,
   "metadata": {},
   "outputs": [],
   "source": [
    "from sklearn.decomposition import PCA"
   ]
  },
  {
   "cell_type": "code",
   "execution_count": 2,
   "metadata": {},
   "outputs": [],
   "source": [
    "from codebase.utils import load_model_by_name\n",
    "from codebase.utils import generate_individual_set_loader\n",
    "from codebase.utils import get_mean_variance\n",
    "from codebase import utils as ut\n",
    "from codebase.models.hkvae import HKVAE\n",
    "import torch\n",
    "import matplotlib.pyplot as plt\n",
    "from torchvision import datasets, transforms\n",
    "import numpy as np\n",
    "import torchvision\n",
    "import argparse"
   ]
  },
  {
   "cell_type": "code",
   "execution_count": 3,
   "metadata": {
    "ExecuteTime": {
     "end_time": "2019-06-09T02:58:25.768403Z",
     "start_time": "2019-06-09T02:58:25.764142Z"
    }
   },
   "outputs": [],
   "source": [
    "from codebase.utils_c import load_model_by_name\n",
    "from codebase.utils_c import generate_individual_set_loader\n",
    "from codebase.utils_c import get_mean_variance\n",
    "from codebase import utils_c as ut\n",
    "import torch\n",
    "import matplotlib.pyplot as plt\n",
    "from torchvision import datasets, transforms\n",
    "import numpy as np"
   ]
  },
  {
   "cell_type": "code",
   "execution_count": 4,
   "metadata": {},
   "outputs": [],
   "source": [
    "parser = argparse.ArgumentParser(formatter_class=argparse.ArgumentDefaultsHelpFormatter)\n",
    "parser.add_argument('--gw',             type=int, default=1,        help=\"Weight on the generative terms\")\n",
    "parser.add_argument('--cw',             type=int, default=50,      help=\"Weight on the class term\")\n",
    "parser.add_argument('--recw',            type=int, default=10,        help=\"Weight on the generative terms\")\n",
    "parser.add_argument('--kl_xy_xw',        type=int, default=10,       help=\"Weight on the class term\")\n",
    "parser.add_argument('--kl_xy_yw',        type=int, default=30,       help=\"Weight on the generative terms\")\n",
    "parser.add_argument('--iter_max',       type=int, default=10000,    help=\"Number of training iterations\")\n",
    "parser.add_argument('--iter_save',      type=int, default=5000,    help=\"Save model every n iterations\")\n",
    "parser.add_argument('--run',            type=int, default=0,        help=\"Run ID. In case you want to run replicates\")\n",
    "parser.add_argument('--train',          type=int, default=1,        help=\"Flag for training\")\n",
    "args = parser.parse_known_args()[0]"
   ]
  },
  {
   "cell_type": "code",
   "execution_count": 5,
   "metadata": {
    "ExecuteTime": {
     "end_time": "2019-06-09T02:58:27.579279Z",
     "start_time": "2019-06-09T02:58:26.816509Z"
    }
   },
   "outputs": [],
   "source": [
    "train_set = datasets.MNIST(\n",
    "    root='../MNIST-data'\n",
    "    ,train=True\n",
    "    ,download=True\n",
    "    ,transform=transforms.Compose([\n",
    "        transforms.ToTensor()\n",
    "    ])\n",
    ")\n",
    "\n",
    "test_set = datasets.MNIST(\n",
    "    root='../MNIST-data'\n",
    "    ,train=False\n",
    "    ,download=True\n",
    "    ,transform=transforms.Compose([\n",
    "        transforms.ToTensor()\n",
    "    ])\n",
    ")\n",
    "device = torch.device('cpu')\n",
    "train_loader, labeled_subset, _ = ut.get_mnist_data(device, train_set, test_set, use_test_subset=True)\n",
    "data_set_individual, data_loader_individual = generate_individual_set_loader(device, train_set)"
   ]
  },
  {
   "cell_type": "code",
   "execution_count": 6,
   "metadata": {
    "ExecuteTime": {
     "end_time": "2019-06-09T02:58:26.119359Z",
     "start_time": "2019-06-09T02:58:26.097096Z"
    }
   },
   "outputs": [
    {
     "ename": "FileNotFoundError",
     "evalue": "[Errno 2] No such file or directory: 'checkpoints\\\\../HKVAE/model=hkvae_gw=001_cw=100_kl_xy_xw=010_kl_xy_yw=010_recw=001_run=0000\\\\model-10000.pt'",
     "output_type": "error",
     "traceback": [
      "\u001b[1;31m---------------------------------------------------------------------------\u001b[0m",
      "\u001b[1;31mFileNotFoundError\u001b[0m                         Traceback (most recent call last)",
      "\u001b[1;32m<ipython-input-6-71cb0fb82fd3>\u001b[0m in \u001b[0;36m<module>\u001b[1;34m\u001b[0m\n\u001b[0;32m     10\u001b[0m     \u001b[0mclass_weight\u001b[0m\u001b[1;33m=\u001b[0m\u001b[0margs\u001b[0m\u001b[1;33m.\u001b[0m\u001b[0mcw\u001b[0m\u001b[1;33m,\u001b[0m\u001b[1;33m\u001b[0m\u001b[1;33m\u001b[0m\u001b[0m\n\u001b[0;32m     11\u001b[0m     name=model_name).to(device)\n\u001b[1;32m---> 12\u001b[1;33m \u001b[0mload_model_by_name\u001b[0m\u001b[1;33m(\u001b[0m\u001b[0mhkvae\u001b[0m\u001b[1;33m,\u001b[0m \u001b[1;36m10000\u001b[0m\u001b[1;33m)\u001b[0m\u001b[1;33m\u001b[0m\u001b[1;33m\u001b[0m\u001b[0m\n\u001b[0m",
      "\u001b[1;32mG:\\CS295\\Image-CLassification_Based-on_VAE\\codebase\\utils_c.py\u001b[0m in \u001b[0;36mload_model_by_name\u001b[1;34m(model, global_step)\u001b[0m\n\u001b[0;32m    278\u001b[0m                              \u001b[0mmodel\u001b[0m\u001b[1;33m.\u001b[0m\u001b[0mname\u001b[0m\u001b[1;33m,\u001b[0m\u001b[1;33m\u001b[0m\u001b[1;33m\u001b[0m\u001b[0m\n\u001b[0;32m    279\u001b[0m                              'model-{:05d}.pt'.format(global_step))\n\u001b[1;32m--> 280\u001b[1;33m     \u001b[0mstate\u001b[0m \u001b[1;33m=\u001b[0m \u001b[0mtorch\u001b[0m\u001b[1;33m.\u001b[0m\u001b[0mload\u001b[0m\u001b[1;33m(\u001b[0m\u001b[0mfile_path\u001b[0m\u001b[1;33m)\u001b[0m\u001b[1;33m\u001b[0m\u001b[1;33m\u001b[0m\u001b[0m\n\u001b[0m\u001b[0;32m    281\u001b[0m     \u001b[0mmodel\u001b[0m\u001b[1;33m.\u001b[0m\u001b[0mload_state_dict\u001b[0m\u001b[1;33m(\u001b[0m\u001b[0mstate\u001b[0m\u001b[1;33m)\u001b[0m\u001b[1;33m\u001b[0m\u001b[1;33m\u001b[0m\u001b[0m\n\u001b[0;32m    282\u001b[0m     \u001b[0mprint\u001b[0m\u001b[1;33m(\u001b[0m\u001b[1;34m\"Loaded from {}\"\u001b[0m\u001b[1;33m.\u001b[0m\u001b[0mformat\u001b[0m\u001b[1;33m(\u001b[0m\u001b[0mfile_path\u001b[0m\u001b[1;33m)\u001b[0m\u001b[1;33m)\u001b[0m\u001b[1;33m\u001b[0m\u001b[1;33m\u001b[0m\u001b[0m\n",
      "\u001b[1;32mD:\\Anaconda2\\envs\\py3.7\\lib\\site-packages\\torch\\serialization.py\u001b[0m in \u001b[0;36mload\u001b[1;34m(f, map_location, pickle_module)\u001b[0m\n\u001b[0;32m    354\u001b[0m             \u001b[1;33m(\u001b[0m\u001b[0msys\u001b[0m\u001b[1;33m.\u001b[0m\u001b[0mversion_info\u001b[0m\u001b[1;33m[\u001b[0m\u001b[1;36m0\u001b[0m\u001b[1;33m]\u001b[0m \u001b[1;33m==\u001b[0m \u001b[1;36m3\u001b[0m \u001b[1;32mand\u001b[0m \u001b[0misinstance\u001b[0m\u001b[1;33m(\u001b[0m\u001b[0mf\u001b[0m\u001b[1;33m,\u001b[0m \u001b[0mpathlib\u001b[0m\u001b[1;33m.\u001b[0m\u001b[0mPath\u001b[0m\u001b[1;33m)\u001b[0m\u001b[1;33m)\u001b[0m\u001b[1;33m:\u001b[0m\u001b[1;33m\u001b[0m\u001b[1;33m\u001b[0m\u001b[0m\n\u001b[0;32m    355\u001b[0m         \u001b[0mnew_fd\u001b[0m \u001b[1;33m=\u001b[0m \u001b[1;32mTrue\u001b[0m\u001b[1;33m\u001b[0m\u001b[1;33m\u001b[0m\u001b[0m\n\u001b[1;32m--> 356\u001b[1;33m         \u001b[0mf\u001b[0m \u001b[1;33m=\u001b[0m \u001b[0mopen\u001b[0m\u001b[1;33m(\u001b[0m\u001b[0mf\u001b[0m\u001b[1;33m,\u001b[0m \u001b[1;34m'rb'\u001b[0m\u001b[1;33m)\u001b[0m\u001b[1;33m\u001b[0m\u001b[1;33m\u001b[0m\u001b[0m\n\u001b[0m\u001b[0;32m    357\u001b[0m     \u001b[1;32mtry\u001b[0m\u001b[1;33m:\u001b[0m\u001b[1;33m\u001b[0m\u001b[1;33m\u001b[0m\u001b[0m\n\u001b[0;32m    358\u001b[0m         \u001b[1;32mreturn\u001b[0m \u001b[0m_load\u001b[0m\u001b[1;33m(\u001b[0m\u001b[0mf\u001b[0m\u001b[1;33m,\u001b[0m \u001b[0mmap_location\u001b[0m\u001b[1;33m,\u001b[0m \u001b[0mpickle_module\u001b[0m\u001b[1;33m)\u001b[0m\u001b[1;33m\u001b[0m\u001b[1;33m\u001b[0m\u001b[0m\n",
      "\u001b[1;31mFileNotFoundError\u001b[0m: [Errno 2] No such file or directory: 'checkpoints\\\\../HKVAE/model=hkvae_gw=001_cw=100_kl_xy_xw=010_kl_xy_yw=010_recw=001_run=0000\\\\model-10000.pt'"
     ]
    }
   ],
   "source": [
    "dim = 10\n",
    "model_name = \"../HKVAE/model=hkvae_gw=001_cw=100_kl_xy_xw=010_kl_xy_yw=010_recw=001_run=0000\"\n",
    "\n",
    "\n",
    "hkvae = HKVAE(\n",
    "    rec_weight=args.recw,\n",
    "    kl_xy_x_weight=args.kl_xy_xw,\n",
    "    kl_xy_y_weight=args.kl_xy_yw,\n",
    "    gen_weight=args.gw,\n",
    "    class_weight=args.cw,\n",
    "    name=model_name).to(device)\n",
    "load_model_by_name(hkvae, 10000)"
   ]
  },
  {
   "cell_type": "code",
   "execution_count": null,
   "metadata": {
    "ExecuteTime": {
     "end_time": "2019-06-09T02:58:30.191418Z",
     "start_time": "2019-06-09T02:58:29.838166Z"
    },
    "scrolled": false
   },
   "outputs": [],
   "source": [
    "# para_set = [get_mean_variance(vae, data_set_individual[i]) for i in range(10)]\n",
    "# mean_mean = []\n",
    "# mean_variance = []\n",
    "# for i, set in enumerate(para_set):\n",
    "#     print('set: {}'.format(i))\n",
    "#     print(\"\\tmean\")\n",
    "#     temp_mean_mean = set[0].mean(dim=0)\n",
    "#     mean_mean.append(temp_mean_mean)\n",
    "#     print(\"\\t\", temp_mean_mean)\n",
    "#     print(\"\\tvariance\")\n",
    "#     temp_mean_variance = set[1].mean(dim=0)\n",
    "#     mean_variance.append(temp_mean_variance)\n",
    "#     print(\"\\t\", temp_mean_variance)\n",
    "\n",
    "# mean_mean = torch.stack(mean_mean, dim=0).detach().numpy()\n",
    "# mean_variance = torch.stack(mean_variance, dim=0).detach().numpy()\n",
    "    \n",
    "# overall_mean = np.zeros((10, dim))\n",
    "# overall_var = np.zeros((10, dim))\n",
    "# for i, set in enumerate(para_set):\n",
    "#     overall_mean[i], overall_var[i]  = ut.resample(30, set[0], set[1])\n",
    "#     overall_var[i] = 1e-8\n",
    "#     print('set: {}'.format(i))\n",
    "#     print(\"\\tmean\")\n",
    "#     print(\"\\t\", overall_mean[i])\n",
    "#     print(\"\\tvariance\")\n",
    "#     print(\"\\t\", overall_var[i])"
   ]
  },
  {
   "cell_type": "code",
   "execution_count": null,
   "metadata": {},
   "outputs": [],
   "source": [
    "# pca = PCA(n_components=2)\n",
    "# newData = pca.fit_transform(overall_var)\n",
    "\n",
    "# for i in range(newData.shape[0]):\n",
    "#     plt.scatter(newData[i][0], newData[i][1], label='{i}'.format(i=i))\n",
    "#     plt.legend()"
   ]
  },
  {
   "cell_type": "code",
   "execution_count": null,
   "metadata": {},
   "outputs": [],
   "source": [
    "# newData = pca.fit_transform(np.array(mean_mean))\n",
    "\n",
    "# for i in range(newData.shape[0]):\n",
    "#     plt.scatter(newData[i][0], newData[i][1], label='{i}'.format(i=i))\n",
    "#     plt.legend()"
   ]
  },
  {
   "cell_type": "code",
   "execution_count": null,
   "metadata": {},
   "outputs": [],
   "source": [
    "labels = np.repeat(np.arange(10), 10)"
   ]
  },
  {
   "cell_type": "code",
   "execution_count": null,
   "metadata": {},
   "outputs": [],
   "source": [
    "y = torch.tensor(np.eye(10)[labels].reshape(-1, 10)).float()"
   ]
  },
  {
   "cell_type": "code",
   "execution_count": null,
   "metadata": {},
   "outputs": [],
   "source": [
    "image = hkvae.sample_x_given_y(y)\n",
    "grid = torchvision.utils.make_grid(image.reshape(-1, 1, 28, 28), nrow=10)\n",
    "plt.figure(figsize=(15,15))\n",
    "plt.imshow(np.transpose(grid, (1,2,0)))"
   ]
  },
  {
   "cell_type": "code",
   "execution_count": null,
   "metadata": {},
   "outputs": [],
   "source": []
  }
 ],
 "metadata": {
  "kernelspec": {
   "display_name": "py3.7",
   "language": "python",
   "name": "py3.7"
  },
  "language_info": {
   "codemirror_mode": {
    "name": "ipython",
    "version": 3
   },
   "file_extension": ".py",
   "mimetype": "text/x-python",
   "name": "python",
   "nbconvert_exporter": "python",
   "pygments_lexer": "ipython3",
   "version": "3.7.3"
  },
  "varInspector": {
   "cols": {
    "lenName": 16,
    "lenType": 16,
    "lenVar": 40
   },
   "kernels_config": {
    "python": {
     "delete_cmd_postfix": "",
     "delete_cmd_prefix": "del ",
     "library": "var_list.py",
     "varRefreshCmd": "print(var_dic_list())"
    },
    "r": {
     "delete_cmd_postfix": ") ",
     "delete_cmd_prefix": "rm(",
     "library": "var_list.r",
     "varRefreshCmd": "cat(var_dic_list()) "
    }
   },
   "types_to_exclude": [
    "module",
    "function",
    "builtin_function_or_method",
    "instance",
    "_Feature"
   ],
   "window_display": false
  }
 },
 "nbformat": 4,
 "nbformat_minor": 2
}
